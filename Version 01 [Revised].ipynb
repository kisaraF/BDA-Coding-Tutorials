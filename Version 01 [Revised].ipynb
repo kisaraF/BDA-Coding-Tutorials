{
 "cells": [
  {
   "cell_type": "code",
   "execution_count": 1,
   "id": "a22ff93d",
   "metadata": {},
   "outputs": [],
   "source": [
    "import numpy as np\n",
    "import pandas as pd"
   ]
  },
  {
   "cell_type": "code",
   "execution_count": 4,
   "id": "c7b48c16",
   "metadata": {},
   "outputs": [],
   "source": [
    "df= pd.read_csv(\"Data/heart_statlog_cleveland_hungary_final.csv\")"
   ]
  },
  {
   "cell_type": "code",
   "execution_count": 5,
   "id": "52a4d826",
   "metadata": {},
   "outputs": [
    {
     "data": {
      "text/plain": [
       "((1011, 11), (179, 11), (1011,), (179,))"
      ]
     },
     "execution_count": 5,
     "metadata": {},
     "output_type": "execute_result"
    }
   ],
   "source": [
    "#Let's split the data. I have verified that the dataset contains no missing values\n",
    "from sklearn.model_selection import train_test_split\n",
    "\n",
    "x= df.drop(\"target\", axis=1)\n",
    "y= df[\"target\"]\n",
    "\n",
    "np.random.seed(10)\n",
    "x_train, x_test, y_train, y_test= train_test_split(x,y, test_size=0.15)\n",
    "\n",
    "x_train.shape, x_test.shape, y_train.shape, y_test.shape"
   ]
  },
  {
   "cell_type": "code",
   "execution_count": 8,
   "id": "e7c39602",
   "metadata": {},
   "outputs": [],
   "source": [
    "#Let's do one hot encoding now\n",
    "from sklearn.preprocessing import OneHotEncoder\n",
    "from sklearn.compose import ColumnTransformer\n",
    "\n",
    "nominal_colus= [\"chest pain type\", \"resting ecg\", \"ST slope\"]\n",
    "\n",
    "encoder= OneHotEncoder()\n",
    "\n",
    "transformer= ColumnTransformer([(\"one_hot\", encoder, nominal_colus)], remainder=\"passthrough\")"
   ]
  },
  {
   "cell_type": "code",
   "execution_count": 9,
   "id": "b29a88f6",
   "metadata": {},
   "outputs": [
    {
     "data": {
      "text/plain": [
       "array([[  0. ,   1. ,   0. , ..., 172. ,   0. ,   0. ],\n",
       "       [  0. ,   0. ,   1. , ..., 156. ,   0. ,   1. ],\n",
       "       [  0. ,   1. ,   0. , ...,  98. ,   0. ,   0. ],\n",
       "       ...,\n",
       "       [  0. ,   0. ,   0. , ..., 115. ,   1. ,   1.2],\n",
       "       [  0. ,   1. ,   0. , ..., 174. ,   0. ,   0. ],\n",
       "       [  0. ,   0. ,   1. , ..., 173. ,   0. ,   0. ]])"
      ]
     },
     "execution_count": 9,
     "metadata": {},
     "output_type": "execute_result"
    }
   ],
   "source": [
    "transformed_x= transformer.fit_transform(x)\n",
    "transformed_x"
   ]
  },
  {
   "cell_type": "code",
   "execution_count": 11,
   "id": "1c31249d",
   "metadata": {},
   "outputs": [],
   "source": [
    "#Resplit data to fit to the model\n",
    "x1_train, x1_test, y1_train, y1_test= train_test_split(transformed_x, y, test_size=0.15)"
   ]
  },
  {
   "cell_type": "code",
   "execution_count": 12,
   "id": "586b483e",
   "metadata": {},
   "outputs": [
    {
     "data": {
      "text/plain": [
       "RandomForestClassifier()"
      ]
     },
     "execution_count": 12,
     "metadata": {},
     "output_type": "execute_result"
    }
   ],
   "source": [
    "from sklearn.ensemble import RandomForestClassifier\n",
    "\n",
    "clf= RandomForestClassifier()\n",
    "\n",
    "clf.fit(x1_train, y1_train)"
   ]
  },
  {
   "cell_type": "code",
   "execution_count": 13,
   "id": "b0cc2483",
   "metadata": {},
   "outputs": [
    {
     "data": {
      "text/plain": [
       "1.0"
      ]
     },
     "execution_count": 13,
     "metadata": {},
     "output_type": "execute_result"
    }
   ],
   "source": [
    "clf.score(x1_train, y1_train)"
   ]
  },
  {
   "cell_type": "code",
   "execution_count": 14,
   "id": "76ae8b9b",
   "metadata": {},
   "outputs": [
    {
     "data": {
      "text/plain": [
       "0.9050279329608939"
      ]
     },
     "execution_count": 14,
     "metadata": {},
     "output_type": "execute_result"
    }
   ],
   "source": [
    "clf.score(x1_test, y1_test)"
   ]
  },
  {
   "cell_type": "code",
   "execution_count": 15,
   "id": "69d72d41",
   "metadata": {},
   "outputs": [
    {
     "data": {
      "text/plain": [
       "1.0"
      ]
     },
     "execution_count": 15,
     "metadata": {},
     "output_type": "execute_result"
    }
   ],
   "source": [
    "#Let's try with the non-converted feature set\n",
    "clf.fit(x_train, y_train)\n",
    "clf.score(x_train, y_train)"
   ]
  },
  {
   "cell_type": "code",
   "execution_count": 16,
   "id": "02502807",
   "metadata": {},
   "outputs": [
    {
     "data": {
      "text/plain": [
       "0.9497206703910615"
      ]
     },
     "execution_count": 16,
     "metadata": {},
     "output_type": "execute_result"
    }
   ],
   "source": [
    "clf.score(x_test, y_test)"
   ]
  },
  {
   "cell_type": "code",
   "execution_count": null,
   "id": "7d7060c6",
   "metadata": {},
   "outputs": [],
   "source": []
  }
 ],
 "metadata": {
  "kernelspec": {
   "display_name": "Python 3",
   "language": "python",
   "name": "python3"
  },
  "language_info": {
   "codemirror_mode": {
    "name": "ipython",
    "version": 3
   },
   "file_extension": ".py",
   "mimetype": "text/x-python",
   "name": "python",
   "nbconvert_exporter": "python",
   "pygments_lexer": "ipython3",
   "version": "3.8.8"
  }
 },
 "nbformat": 4,
 "nbformat_minor": 5
}
